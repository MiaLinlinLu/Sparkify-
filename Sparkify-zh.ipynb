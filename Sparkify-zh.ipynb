{
 "cells": [
  {
   "cell_type": "markdown",
   "metadata": {},
   "source": [
    "# Sparkify 流失用户预测\n",
    "这个 Workspace 包括一个迷你的子数据集（128MB），是完整数据集（12GB）的一个子集。在将你的项目部署到云上之前，你可以自由使用 Workspace 来创建你的项目或用Spark来探索这个较小数据集。设置 Spark 集群的指南可以在选修 Spark 课程的内容里找到。\n",
    "\n",
    "你可以依照下面的步骤进行项目的数据分析和模型搭建部分。"
   ]
  },
  {
   "cell_type": "code",
   "execution_count": 1,
   "metadata": {},
   "outputs": [],
   "source": [
    "import pyspark"
   ]
  },
  {
   "cell_type": "code",
   "execution_count": 2,
   "metadata": {},
   "outputs": [],
   "source": [
    "# import libraries\n",
    "from pyspark.sql import SparkSession\n",
    "from pyspark.ml.feature import RegexTokenizer, VectorAssembler, Normalizer, StandardScaler\n",
    "from pyspark.sql.functions import udf\n",
    "from pyspark.sql.types import IntegerType\n",
    "from pyspark.sql.types import StringType\n",
    "from pyspark.sql.functions import desc\n",
    "from pyspark.sql.functions import asc\n",
    "from pyspark.sql.functions import sum as Fsum\n",
    "from sklearn.utils import shuffle\n",
    "from pyspark.ml.feature import CountVectorizer, IDF, Normalizer, PCA, RegexTokenizer, StandardScaler, StopWordsRemover, StringIndexer, VectorAssembler\n",
    "from pyspark.ml.regression import LinearRegression\n",
    "from pyspark.sql.functions import avg, col, concat,count, desc, explode, lit, min, max, split, stddev, udf\n",
    "\n",
    "import re\n",
    "import datetime\n",
    "\n",
    "import numpy as np\n",
    "import pandas as pd\n",
    "%matplotlib inline\n",
    "import matplotlib.pyplot as plt\n",
    "\n",
    "##Other Installment\n",
    "#import os\n",
    "#os.environ['JAVA_HOME']='/Users/mialu/opt/anaconda3/pkgs/java-jdk-8.25.17-0/'"
   ]
  },
  {
   "cell_type": "code",
   "execution_count": 3,
   "metadata": {},
   "outputs": [],
   "source": [
    "# create a Spark session\n",
    "spark = SparkSession.builder \\\n",
    "    .master(\"local\") \\\n",
    "    .appName(\"Final Project\") \\\n",
    "    .getOrCreate()"
   ]
  },
  {
   "cell_type": "markdown",
   "metadata": {},
   "source": [
    "# 加载和清洗数据\n",
    "在这个 Workspace 中，小数据集的名称是 `mini_sparkify_event_data.json`.加载和清洗数据集，检查是否有无效或缺失数据——例如，没有userid或sessionid的数据。 "
   ]
  },
  {
   "cell_type": "code",
   "execution_count": 4,
   "metadata": {},
   "outputs": [],
   "source": [
    "data = 'mini_sparkify_event_data.json'\n",
    "df = spark.read.json(data)"
   ]
  },
  {
   "cell_type": "code",
   "execution_count": 5,
   "metadata": {},
   "outputs": [
    {
     "name": "stdout",
     "output_type": "stream",
     "text": [
      "root\n",
      " |-- artist: string (nullable = true)\n",
      " |-- auth: string (nullable = true)\n",
      " |-- firstName: string (nullable = true)\n",
      " |-- gender: string (nullable = true)\n",
      " |-- itemInSession: long (nullable = true)\n",
      " |-- lastName: string (nullable = true)\n",
      " |-- length: double (nullable = true)\n",
      " |-- level: string (nullable = true)\n",
      " |-- location: string (nullable = true)\n",
      " |-- method: string (nullable = true)\n",
      " |-- page: string (nullable = true)\n",
      " |-- registration: long (nullable = true)\n",
      " |-- sessionId: long (nullable = true)\n",
      " |-- song: string (nullable = true)\n",
      " |-- status: long (nullable = true)\n",
      " |-- ts: long (nullable = true)\n",
      " |-- userAgent: string (nullable = true)\n",
      " |-- userId: string (nullable = true)\n",
      "\n"
     ]
    }
   ],
   "source": [
    "df.printSchema()"
   ]
  },
  {
   "cell_type": "markdown",
   "metadata": {},
   "source": [
    "# 探索性数据分析\n",
    "当你使用完整数据集时，通过加载小数据集，在 Spark 中完成基础操作来实现探索性数据分析。在这个 Workspace 中，我们已经提供给你一个你可以探索的小数据集。\n",
    "\n",
    "### 定义客户流失\n",
    "\n",
    "在你完成初步分析之后，创建一列 `Churn` 作为模型的标签。我建议你使用 `Cancellation Confirmation` 事件来定义客户流失，该事件在付费或免费客户身上都有发生。作为一个奖励任务，你也可以深入了解 `Downgrade` 事件。\n",
    "\n",
    "### 探索数据\n",
    "你定义好客户流失后，就可以执行一些探索性数据分析，观察留存用户和流失用户的行为。你可以首先把这两类用户的数据聚合到一起，观察固定时间内某个特定动作出现的次数或者播放音乐的数量。"
   ]
  },
  {
   "cell_type": "code",
   "execution_count": 6,
   "metadata": {},
   "outputs": [],
   "source": [
    "get_hour = udf(lambda x:datetime.datetime.fromtimestamp(x/1000.0). hour)\n",
    "df = df.withColumn(\"hour\",get_hour(df.ts))"
   ]
  },
  {
   "cell_type": "code",
   "execution_count": 7,
   "metadata": {},
   "outputs": [],
   "source": [
    "# 清除 用户名为 ''\n",
    "df_valid = df.filter(df[\"userId\"]!=\"\")\n",
    "df.count()\n",
    "df_valid.count()\n",
    "user_log = df_valid"
   ]
  },
  {
   "cell_type": "code",
   "execution_count": 8,
   "metadata": {},
   "outputs": [],
   "source": [
    "## 定义流失客户，churn设置为1\n",
    "flag_churn = udf(lambda x: 1 if x == 'Cancellation Confirmation' else 0, IntegerType())\n",
    "user_log = user_log.withColumn(\"churn\", flag_churn(\"page\"))\n",
    "## 找到有churn = 1的 userId,即流失的客户的Id\n",
    "userId_churn = user_log.select(['userId']).where(user_log.churn == 1).collect()\n",
    "userId_churn_list = []\n",
    "for i in range(len(userId_churn)):\n",
    "    userId_churn_list.append(userId_churn[i][0])"
   ]
  },
  {
   "cell_type": "markdown",
   "metadata": {},
   "source": [
    "- 统计一共有多少 userId, \n",
    "- 流失率是多少，\n",
    "- 新建2个数据集，分别保存流失客户的数据 和 留存客户的数据。"
   ]
  },
  {
   "cell_type": "code",
   "execution_count": 9,
   "metadata": {},
   "outputs": [
    {
     "name": "stdout",
     "output_type": "stream",
     "text": [
      "共有userId 225 个\n",
      "流失的userId 52 个\n",
      "流失率 0.2311111111111111\n"
     ]
    }
   ],
   "source": [
    "print('共有userId',len(user_log.select('userId').distinct().collect()),'个')\n",
    "print('流失的userId',len(userId_churn),'个')\n",
    "print(\"流失率\",len(userId_churn)/len(user_log.select('userId').distinct().collect()))"
   ]
  },
  {
   "cell_type": "code",
   "execution_count": 10,
   "metadata": {},
   "outputs": [],
   "source": [
    "# 得到 churn用户的 DF\n",
    "def getrows_churn(df, rownums=None):\n",
    "    return df.rdd.zipWithIndex().filter(lambda x: x[0]['userId'] in rownums).map(lambda x: x[0])\n",
    "df_churn = getrows_churn(user_log,userId_churn_list).toDF()\n",
    "\n",
    "# 得到 留存用户的 DF\n",
    "def getrows_stay(df, rownums=None):\n",
    "    return df.rdd.zipWithIndex().filter(lambda x: x[0]['userId'] not in rownums).map(lambda x: x[0])\n",
    "df_stay = getrows_stay(user_log,userId_churn_list).toDF()"
   ]
  },
  {
   "cell_type": "code",
   "execution_count": 11,
   "metadata": {},
   "outputs": [],
   "source": [
    "pd_churn = df_churn.toPandas()\n",
    "pd_stay = df_stay.toPandas()"
   ]
  },
  {
   "cell_type": "code",
   "execution_count": 12,
   "metadata": {},
   "outputs": [
    {
     "name": "stdout",
     "output_type": "stream",
     "text": [
      "2018-11-29 19:45:09\n",
      "2018-10-01 08:32:10\n",
      "2018-12-03 09:11:16\n",
      "2018-10-01 08:01:57\n"
     ]
    }
   ],
   "source": [
    "# 最新ts\n",
    "print(datetime.datetime.fromtimestamp(pd_churn.ts.max()/1000))\n",
    "print(datetime.datetime.fromtimestamp(pd_churn.ts.min()/1000))\n",
    "print(datetime.datetime.fromtimestamp(pd_stay.ts.max()/1000))\n",
    "print(datetime.datetime.fromtimestamp(pd_stay.ts.min()/1000))"
   ]
  },
  {
   "cell_type": "code",
   "execution_count": 13,
   "metadata": {},
   "outputs": [
    {
     "name": "stdout",
     "output_type": "stream",
     "text": [
      "2018-10-08 04:26:30\n",
      "2018-10-03 01:05:17\n",
      "2018-10-12 12:35:18\n",
      "2018-10-12 12:05:44\n"
     ]
    }
   ],
   "source": [
    "# 随意挑 2个用户 ，看该用户的活动时间\n",
    "print(datetime.datetime.fromtimestamp(pd_churn[pd_churn.userId == '18'].ts.max()/1000))\n",
    "print(datetime.datetime.fromtimestamp(pd_churn[pd_churn.userId == '18'].ts.min()/1000))\n",
    "print(datetime.datetime.fromtimestamp(pd_churn[pd_churn.userId == '125'].ts.max()/1000))\n",
    "print(datetime.datetime.fromtimestamp(pd_churn[pd_churn.userId == '125'].ts.min()/1000))"
   ]
  },
  {
   "cell_type": "markdown",
   "metadata": {},
   "source": [
    "# 特征工程\n",
    "熟悉了数据之后，就可以构建你认为会对训练模型帮助最大的特征。要处理完整数据集，你可以按照下述步骤：\n",
    "- 写一个脚本来从小数据集中提取你需要的特征\n",
    "- 确保你的脚本可以拓展到大数据集上，使用之前教过的最佳实践原则\n",
    "- 在完整数据集上运行你的脚本，按运行情况调试代码\n",
    "\n",
    "如果是在教室的 workspace，你可以直接用里面提供的小数据集来提取特征。确保当你开始使用 Spark 集群的时候，把上述的成果迁移到大数据集上。"
   ]
  },
  {
   "cell_type": "markdown",
   "metadata": {},
   "source": [
    "### 统计，每个用户的`总活跃次数`，即 user log中每个用户的条目数量。"
   ]
  },
  {
   "cell_type": "code",
   "execution_count": 14,
   "metadata": {},
   "outputs": [
    {
     "data": {
      "image/png": "[encoded data removed]",
      "text/plain": [
       "<Figure size 1296x720 with 2 Axes>"
      ]
     },
     "metadata": {
      "needs_background": "light"
     },
     "output_type": "display_data"
    }
   ],
   "source": [
    "# Note: 散点图 表示 流失用户的活跃时间，留存用户的活跃log(user_log记录的时间ts)。\n",
    "# Note:  横轴：用户Id； 纵轴：ts\n",
    "\n",
    "# 流失用户的活跃log\n",
    "fig = plt.figure(figsize=(18, 10))\n",
    "ax1 = fig.add_subplot(1,2,1)  \n",
    "x = pd_churn.userId\n",
    "y = pd_churn.ts\n",
    "ax1.scatter(x,y,c = 'r',marker = '.')  \n",
    "\n",
    "# 留存用户的活跃log\n",
    "ax2 = fig.add_subplot(1,2,2)  \n",
    "x = pd_stay.userId\n",
    "y = pd_stay.ts\n",
    "ax2.scatter(x,y,c = 'r',marker = '.')\n",
    "\n",
    "## 保存用户活跃次数\n",
    "# pd_churn\n",
    "churn_active_keys = pd_churn.groupby('userId').ts.count().index.values\n",
    "churn_active_values = pd_churn.groupby('userId').ts.count().values\n",
    "# pd_stay\n",
    "stay_active_keys = pd_stay.groupby('userId').ts.count().index.values\n",
    "stay_active_values = pd_stay.groupby('userId').ts.count().values"
   ]
  },
  {
   "cell_type": "markdown",
   "metadata": {},
   "source": [
    "### 统计 pd_churn 和 pd_stay 中，每个用户的 `活跃时长`（max(ts)-min(ts)）"
   ]
  },
  {
   "cell_type": "code",
   "execution_count": 15,
   "metadata": {},
   "outputs": [
    {
     "data": {
      "image/png": "[encoded data removed]",
      "text/plain": [
       "<Figure size 1296x720 with 4 Axes>"
      ]
     },
     "metadata": {
      "needs_background": "light"
     },
     "output_type": "display_data"
    }
   ],
   "source": [
    "# 统计 pd_churn 和 pd_stay 中，每个用户的 活跃时长（max(ts)-min(ts)）\n",
    "\n",
    "# 对给定用户userID和df,给出该用户的活跃时长\n",
    "def user_maxmin_ts(userId, df):\n",
    "    user1_ts = df[df.userId == userId].ts\n",
    "    user1_max_ts = datetime.datetime.fromtimestamp(user1_ts.max()/1000)\n",
    "    user1_min_ts = datetime.datetime.fromtimestamp(user1_ts.min()/1000)\n",
    "    temp = user1_max_ts - user1_min_ts\n",
    "    return temp.days*24+temp.seconds/3600\n",
    "\n",
    "pd_churn_maxmin_ts = []\n",
    "for i in pd_churn.userId.unique():\n",
    "    pd_churn_maxmin_ts.append(user_maxmin_ts(i,pd_churn))\n",
    "    \n",
    "pd_stay_maxmin_ts = []\n",
    "for i in pd_stay.userId.unique():\n",
    "    pd_stay_maxmin_ts.append(user_maxmin_ts(i,pd_stay))\n",
    "    \n",
    "\n",
    "# 流失用户的活跃时间\n",
    "fig = plt.figure(figsize=(18, 10))\n",
    "ax1 = fig.add_subplot(2,2,1);  \n",
    "x = pd_churn.userId.unique()\n",
    "y = pd_churn_maxmin_ts\n",
    "ax1.scatter(x,y,c = 'r',marker = '.')  \n",
    "# 直方图表示\n",
    "ax3 = fig.add_subplot(2,2,3)\n",
    "plt.hist(y)\n",
    "\n",
    "# 保存churn的 active Time\n",
    "churn_activeTime_keys = pd_churn.userId.unique()\n",
    "churn_activeTime_values = y\n",
    "\n",
    "# 留存用户的活跃时间\n",
    "ax2 = fig.add_subplot(2,2,2)  \n",
    "x = pd_stay.userId.unique()\n",
    "y = pd_stay_maxmin_ts\n",
    "ax2.scatter(x,y,c = 'r',marker = '.')\n",
    "# 直方图表示\n",
    "ax4 = fig.add_subplot(2,2,4)\n",
    "plt.hist(y)\n",
    "\n",
    "# 保存stay的 active Time\n",
    "stay_activeTime_keys = pd_stay.userId.unique()\n",
    "stay_activeTime_values = y\n"
   ]
  },
  {
   "cell_type": "markdown",
   "metadata": {},
   "source": [
    "### 统计用户的 `page`状态"
   ]
  },
  {
   "cell_type": "code",
   "execution_count": 16,
   "metadata": {},
   "outputs": [],
   "source": [
    "churn_pages = pd_churn['userId'].groupby([pd_churn['userId'],pd_churn['page']]).count().unstack().fillna(0)\n",
    "stay_pages = pd_stay['userId'].groupby([pd_stay['userId'],pd_stay['page']]).count().unstack().fillna(0)"
   ]
  },
  {
   "cell_type": "code",
   "execution_count": 17,
   "metadata": {},
   "outputs": [
    {
     "name": "stdout",
     "output_type": "stream",
     "text": [
      "['Cancel', 'Cancellation Confirmation']\n"
     ]
    }
   ],
   "source": [
    "churn_page_unique = [i for i in churn_pages.mean().index.values if i not in stay_pages.mean().index.values]\n",
    "print(churn_page_unique)\n",
    "\n",
    "# 把 `Cancel`和`Cancellation Confirmation`从特征工程中去除。\n",
    "churn_pages.drop(churn_page_unique,axis=1,inplace=True)"
   ]
  },
  {
   "cell_type": "code",
   "execution_count": 18,
   "metadata": {},
   "outputs": [
    {
     "data": {
      "text/plain": [
       "array(['About', 'Add Friend', 'Add to Playlist', 'Downgrade', 'Error',\n",
       "       'Help', 'Home', 'Logout', 'NextSong', 'Roll Advert',\n",
       "       'Save Settings', 'Settings', 'Submit Downgrade', 'Submit Upgrade',\n",
       "       'Thumbs Down', 'Thumbs Up', 'Upgrade'], dtype=object)"
      ]
     },
     "execution_count": 18,
     "metadata": {},
     "output_type": "execute_result"
    }
   ],
   "source": [
    "churn_pages.mean().index.values"
   ]
  },
  {
   "cell_type": "markdown",
   "metadata": {},
   "source": [
    "### 创建数据集：包含用户的`page状态`、`活跃时长`、`活跃次数`及`流失标签`"
   ]
  },
  {
   "cell_type": "code",
   "execution_count": 19,
   "metadata": {},
   "outputs": [],
   "source": [
    "new_df = churn_pages.append(stay_pages)\n",
    "\n",
    "active_keys = churn_active_keys.tolist() + stay_active_keys.tolist()\n",
    "active_values = churn_active_values.tolist() + stay_active_values.tolist()\n",
    "activeTime_keys = churn_activeTime_keys.tolist() + (stay_activeTime_keys.tolist())\n",
    "activeTime_values = churn_activeTime_values + (stay_activeTime_values)\n",
    "\n",
    "new_df['active_counts'] = active_values\n",
    "new_df['active_time'] = activeTime_values\n",
    "\n",
    "# 加入 gender. Female设为1，male设为0 \n",
    "gender_churn = []\n",
    "for i in pd_churn.userId.unique():\n",
    "    gender_churn.append(int(pd_churn[pd_churn.userId == i].gender.unique()=='F'))\n",
    "gender_stay = []\n",
    "for i in pd_stay.userId.unique():\n",
    "    gender_stay.append(int(pd_stay[pd_stay.userId == i].gender.unique()=='F'))\n",
    "new_df['gender'] = gender_churn + gender_stay\n",
    "\n",
    "# 加入 active_counts/active_time作为变量\n",
    "new_df['active_freq'] = new_df['active_counts']/new_df['active_time']\n",
    "\n",
    "# 加入label\n",
    "new_df['label'] = list([1]*len(churn_pages) + [0]*len(stay_pages))\n",
    "\n",
    "# reset Index\n",
    "new_df.reset_index(inplace=True)"
   ]
  },
  {
   "cell_type": "code",
   "execution_count": 20,
   "metadata": {},
   "outputs": [],
   "source": [
    "# Python DataFrame类型 转为 Pyspark DataFrame\n",
    "from sklearn.utils import shuffle\n",
    "new_df = shuffle(new_df)\n",
    "\n",
    "df_values = new_df.values.tolist()\n",
    "df_columns = list(new_df.columns)\n",
    "spark_df = spark.createDataFrame(df_values, df_columns)\n",
    "\n",
    "\n",
    "feature_list = spark_df.columns[1:-1]\n",
    "assembler = VectorAssembler(inputCols = feature_list, outputCol = 'NumFeatures')\n",
    "df = assembler.transform(spark_df)\n",
    "\n",
    "# 归一化向量\n",
    "scaler = Normalizer(inputCol =  'NumFeatures', outputCol = 'features')\n",
    "df =  scaler.transform(df)"
   ]
  },
  {
   "cell_type": "markdown",
   "metadata": {},
   "source": [
    "# 建模\n",
    "将完整数据集分成训练集、测试集和验证集。测试几种你学过的机器学习方法。评价不同机器学习方法的准确率，根据情况调节参数。根据准确率你挑选出表现最好的那个模型，然后报告在训练集上的结果。因为流失顾客数据集很小，我建议选用 F1 score 作为优化指标。"
   ]
  },
  {
   "cell_type": "code",
   "execution_count": 21,
   "metadata": {},
   "outputs": [
    {
     "name": "stdout",
     "output_type": "stream",
     "text": [
      "+-----+-----+\n",
      "|label|count|\n",
      "+-----+-----+\n",
      "|    0|  106|\n",
      "|    1|   33|\n",
      "+-----+-----+\n",
      "\n",
      "+-----+-----+\n",
      "|label|count|\n",
      "+-----+-----+\n",
      "|    0|   27|\n",
      "|    1|   10|\n",
      "+-----+-----+\n",
      "\n",
      "+-----+-----+\n",
      "|label|count|\n",
      "+-----+-----+\n",
      "|    0|   40|\n",
      "|    1|    9|\n",
      "+-----+-----+\n",
      "\n"
     ]
    }
   ],
   "source": [
    "# 划分train, test, validation 数据集\n",
    "train, test = df.select('features','label').randomSplit([0.75, 0.25], seed=42)\n",
    "train, validation = train.randomSplit([0.75, 0.25], seed=42)\n",
    "\n",
    "# 查看划分后的数据\n",
    "train.groupBy('label').count().show()\n",
    "validation.groupBy('label').count().show()\n",
    "test.groupBy('label').count().show()"
   ]
  },
  {
   "cell_type": "code",
   "execution_count": 22,
   "metadata": {
    "scrolled": true
   },
   "outputs": [
    {
     "name": "stdout",
     "output_type": "stream",
     "text": [
      "训练集效果    precision  accuracy    recall  f1score\n",
      "0   0.967742  0.971223  0.909091   0.9375\n",
      "验证集效果    precision  accuracy  recall   f1score\n",
      "0      0.875  0.891892     0.7  0.777778\n"
     ]
    }
   ],
   "source": [
    "# 因为不同的分类方法的结果中，自带评估函数不同，所以，这里·定义·评估函数 precision, recall 和  F1-score\n",
    "def f1score_model(model_results):\n",
    "    model_results.filter(model_results['label']==1).filter(model_results['prediction']==1)\n",
    "    trueP = model_results.filter(model_results['label']==1).filter(model_results['prediction']==1).count()\n",
    "    believeP = model_results.filter(model_results['prediction']==1).count()\n",
    "    realP = model_results.filter(model_results['label']==1).count()\n",
    "    trueN = model_results.filter(model_results['label']==0).filter(model_results['prediction']==0).count()\n",
    "    precisionM = trueP/believeP\n",
    "    recallM = trueP/realP\n",
    "    accuracyM = (trueP+trueN)/(model_results.count())\n",
    "    f1M = 2*(precisionM * recallM)/(precisionM + recallM)\n",
    "    evaluateM = {'precision':[precisionM],'accuracy':[accuracyM],'recall':[recallM],'f1score':[f1M]}\n",
    "    result = pd.DataFrame(evaluateM)\n",
    "    return result\n",
    "\n",
    "\n",
    "# ··········逻辑回归··········\n",
    "from pyspark.ml.classification import LogisticRegression\n",
    "log_reg = LogisticRegression(labelCol = 'label').fit(train)\n",
    "\n",
    "### 在测试数据集中评估模型，返回对象为BinaryLogisticRegressionSummary- 给定模型的二元逻辑回归结果\n",
    "train_results = log_reg.evaluate(train).predictions\n",
    "val_results = log_reg.evaluate(validation).predictions\n",
    "\n",
    "print('训练集效果',f1score_model(train_results))\n",
    "print('验证集效果',f1score_model(val_results))"
   ]
  },
  {
   "cell_type": "code",
   "execution_count": 23,
   "metadata": {
    "scrolled": true
   },
   "outputs": [
    {
     "name": "stdout",
     "output_type": "stream",
     "text": [
      "训练集效果    precision  accuracy  recall  f1score\n",
      "0        1.0       1.0     1.0      1.0\n",
      "验证集效果    precision  accuracy  recall  f1score\n",
      "0        1.0       1.0     1.0      1.0\n"
     ]
    }
   ],
   "source": [
    "# ··········决策树··············\n",
    "from pyspark.ml.classification import DecisionTreeClassifier\n",
    "\n",
    "dt = DecisionTreeClassifier(labelCol=\"label\", featuresCol=\"features\", impurity=\"gini\", maxDepth=10, maxBins=14)\n",
    "temp_model = dt.fit(train)\n",
    "train_results = temp_model.transform(train)\n",
    "val_results = dt.fit(validation).transform(validation)\n",
    "print('训练集效果',f1score_model(train_results))\n",
    "print('验证集效果',f1score_model(val_results))"
   ]
  },
  {
   "cell_type": "code",
   "execution_count": 24,
   "metadata": {},
   "outputs": [
    {
     "name": "stdout",
     "output_type": "stream",
     "text": [
      "训练集效果    precision  accuracy    recall   f1score\n",
      "0   0.964286   0.94964  0.818182  0.885246\n",
      "验证集效果    precision  accuracy  recall  f1score\n",
      "0        1.0       1.0     1.0      1.0\n"
     ]
    }
   ],
   "source": [
    "from pyspark.ml.tuning import ParamGridBuilder, TrainValidationSplit\n",
    "from pyspark.mllib.evaluation import BinaryClassificationMetrics\n",
    "from pyspark.ml.evaluation import BinaryClassificationEvaluator\n",
    " \n",
    "paramGrid = ParamGridBuilder().addGrid(dt.impurity, [\"gini\", \"entropy\"]).addGrid(dt.maxDepth, [5, 10, 15]).addGrid(dt.maxBins, [10, 15, 20]).build()\n",
    "# 在训练集找到最好的参数\n",
    "\n",
    "evaluator = BinaryClassificationEvaluator(rawPredictionCol=\"rawPrediction\", labelCol=\"label\", metricName=\"areaUnderROC\")\n",
    "tsv = TrainValidationSplit(estimator=dt, evaluator = evaluator, estimatorParamMaps=paramGrid, trainRatio=0.8)\n",
    "temp_model = tsv.fit(train)\n",
    "bestModel = temp_model.bestModel #找出最好的模型\n",
    "\n",
    "temp_model = bestModel\n",
    "train_results = temp_model.transform(train)\n",
    "val_results = dt.fit(validation).transform(validation)\n",
    "print('训练集效果',f1score_model(train_results))\n",
    "print('验证集效果',f1score_model(val_results))"
   ]
  },
  {
   "cell_type": "markdown",
   "metadata": {},
   "source": [
    "## 检查模型是否ROBUST"
   ]
  },
  {
   "cell_type": "markdown",
   "metadata": {},
   "source": [
    "## 重新划分 数据集 -training size基本不变"
   ]
  },
  {
   "cell_type": "code",
   "execution_count": 25,
   "metadata": {},
   "outputs": [
    {
     "name": "stdout",
     "output_type": "stream",
     "text": [
      "+-----+-----+\n",
      "|label|count|\n",
      "+-----+-----+\n",
      "|    0|   93|\n",
      "|    1|   29|\n",
      "+-----+-----+\n",
      "\n",
      "+-----+-----+\n",
      "|label|count|\n",
      "+-----+-----+\n",
      "|    0|   35|\n",
      "|    1|   10|\n",
      "+-----+-----+\n",
      "\n",
      "+-----+-----+\n",
      "|label|count|\n",
      "+-----+-----+\n",
      "|    0|   45|\n",
      "|    1|   13|\n",
      "+-----+-----+\n",
      "\n"
     ]
    }
   ],
   "source": [
    "# 划分train, test, validation 数据集\n",
    "train, test = df.select('features','label').randomSplit([0.75, 0.25], seed=40)\n",
    "train, validation = train.randomSplit([0.75, 0.25], seed=40)\n",
    "\n",
    "# 查看划分后的数据\n",
    "train.groupBy('label').count().show()\n",
    "validation.groupBy('label').count().show()\n",
    "test.groupBy('label').count().show()"
   ]
  },
  {
   "cell_type": "code",
   "execution_count": 26,
   "metadata": {},
   "outputs": [
    {
     "name": "stdout",
     "output_type": "stream",
     "text": [
      "训练集效果    precision  accuracy    recall   f1score\n",
      "0   0.913043  0.918033  0.724138  0.807692\n",
      "验证集效果    precision  accuracy  recall   f1score\n",
      "0   0.545455       0.8     0.6  0.571429\n"
     ]
    }
   ],
   "source": [
    "# ··········逻辑回归··········\n",
    "log_reg = LogisticRegression(labelCol = 'label').fit(train)\n",
    "\n",
    "### 在测试数据集中评估模型，返回对象为BinaryLogisticRegressionSummary- 给定模型的二元逻辑回归结果\n",
    "train_results = log_reg.evaluate(train).predictions\n",
    "val_results = log_reg.evaluate(validation).predictions\n",
    "\n",
    "print('训练集效果',f1score_model(train_results))\n",
    "print('验证集效果',f1score_model(val_results))"
   ]
  },
  {
   "cell_type": "code",
   "execution_count": 27,
   "metadata": {},
   "outputs": [
    {
     "name": "stdout",
     "output_type": "stream",
     "text": [
      "训练集效果    precision  accuracy  recall  f1score\n",
      "0        1.0       1.0     1.0      1.0\n",
      "验证集效果    precision  accuracy  recall  f1score\n",
      "0        1.0       1.0     1.0      1.0\n"
     ]
    }
   ],
   "source": [
    "# ··········决策树··············\n",
    "dt = DecisionTreeClassifier(labelCol=\"label\", featuresCol=\"features\", impurity=\"gini\", maxDepth=10, maxBins=14)\n",
    "temp_model = dt.fit(train)\n",
    "train_results = temp_model.transform(train)\n",
    "val_results = dt.fit(validation).transform(validation)\n",
    "print('训练集效果',f1score_model(train_results))\n",
    "print('验证集效果',f1score_model(val_results))"
   ]
  },
  {
   "cell_type": "markdown",
   "metadata": {},
   "source": [
    "## 再次划分数据集 - 减小training size"
   ]
  },
  {
   "cell_type": "code",
   "execution_count": 28,
   "metadata": {},
   "outputs": [
    {
     "name": "stdout",
     "output_type": "stream",
     "text": [
      "+-----+-----+\n",
      "|label|count|\n",
      "+-----+-----+\n",
      "|    0|   62|\n",
      "|    1|   17|\n",
      "+-----+-----+\n",
      "\n",
      "+-----+-----+\n",
      "|label|count|\n",
      "+-----+-----+\n",
      "|    0|   66|\n",
      "|    1|   22|\n",
      "+-----+-----+\n",
      "\n",
      "+-----+-----+\n",
      "|label|count|\n",
      "+-----+-----+\n",
      "|    0|   45|\n",
      "|    1|   13|\n",
      "+-----+-----+\n",
      "\n"
     ]
    }
   ],
   "source": [
    "# 划分train, test, validation 数据集\n",
    "train, test = df.select('features','label').randomSplit([0.75, 0.25], seed=40)\n",
    "train, validation = train.randomSplit([0.5, 0.5], seed=40)\n",
    "\n",
    "# 查看划分后的数据\n",
    "train.groupBy('label').count().show()\n",
    "validation.groupBy('label').count().show()\n",
    "test.groupBy('label').count().show()"
   ]
  },
  {
   "cell_type": "code",
   "execution_count": 29,
   "metadata": {},
   "outputs": [
    {
     "name": "stdout",
     "output_type": "stream",
     "text": [
      "训练集效果    precision  accuracy    recall   f1score\n",
      "0   0.857143  0.911392  0.705882  0.774194\n",
      "验证集效果    precision  accuracy    recall   f1score\n",
      "0   0.529412  0.761364  0.409091  0.461538\n"
     ]
    }
   ],
   "source": [
    "# ··········逻辑回归··········\n",
    "log_reg = LogisticRegression(labelCol = 'label').fit(train)\n",
    "\n",
    "### 在测试数据集中评估模型，返回对象为BinaryLogisticRegressionSummary- 给定模型的二元逻辑回归结果\n",
    "train_results = log_reg.evaluate(train).predictions\n",
    "val_results = log_reg.evaluate(validation).predictions\n",
    "\n",
    "print('训练集效果',f1score_model(train_results))\n",
    "print('验证集效果',f1score_model(val_results))"
   ]
  },
  {
   "cell_type": "code",
   "execution_count": 30,
   "metadata": {},
   "outputs": [
    {
     "name": "stdout",
     "output_type": "stream",
     "text": [
      "训练集效果    precision  accuracy  recall  f1score\n",
      "0        1.0       1.0     1.0      1.0\n",
      "验证集效果    precision  accuracy  recall  f1score\n",
      "0        1.0       1.0     1.0      1.0\n"
     ]
    }
   ],
   "source": [
    "# ··········决策树··············\n",
    "dt = DecisionTreeClassifier(labelCol=\"label\", featuresCol=\"features\", impurity=\"gini\", maxDepth=10, maxBins=14)\n",
    "temp_model = dt.fit(train)\n",
    "train_results = temp_model.transform(train)\n",
    "val_results = dt.fit(validation).transform(validation)\n",
    "print('训练集效果',f1score_model(train_results))\n",
    "print('验证集效果',f1score_model(val_results))"
   ]
  },
  {
   "cell_type": "markdown",
   "metadata": {},
   "source": [
    "# (ΩДΩ)震惊 决策树的效果就是超级好"
   ]
  },
  {
   "cell_type": "code",
   "execution_count": 31,
   "metadata": {},
   "outputs": [
    {
     "name": "stdout",
     "output_type": "stream",
     "text": [
      "+-----+-----+\n",
      "|label|count|\n",
      "+-----+-----+\n",
      "|    0|   41|\n",
      "|    1|    9|\n",
      "+-----+-----+\n",
      "\n",
      "+-----+-----+\n",
      "|label|count|\n",
      "+-----+-----+\n",
      "|    0|   92|\n",
      "|    1|   34|\n",
      "+-----+-----+\n",
      "\n",
      "+-----+-----+\n",
      "|label|count|\n",
      "+-----+-----+\n",
      "|    0|   40|\n",
      "|    1|    9|\n",
      "+-----+-----+\n",
      "\n"
     ]
    }
   ],
   "source": [
    "# 划分train, test, validation 数据集\n",
    "train, test = df.select('features','label').randomSplit([0.75, 0.25], seed=42)\n",
    "train, validation = train.randomSplit([0.3, 0.7], seed=40)\n",
    "\n",
    "# 查看划分后的数据\n",
    "train.groupBy('label').count().show()\n",
    "validation.groupBy('label').count().show()\n",
    "test.groupBy('label').count().show()"
   ]
  },
  {
   "cell_type": "code",
   "execution_count": 32,
   "metadata": {},
   "outputs": [
    {
     "name": "stdout",
     "output_type": "stream",
     "text": [
      "训练集效果    precision  accuracy  recall  f1score\n",
      "0        1.0       1.0     1.0      1.0\n",
      "验证集效果    precision  accuracy    recall   f1score\n",
      "0   0.258065  0.611111  0.235294  0.246154\n"
     ]
    }
   ],
   "source": [
    "# ··········逻辑回归··········\n",
    "log_reg = LogisticRegression(labelCol = 'label').fit(train)\n",
    "\n",
    "### 在测试数据集中评估模型，返回对象为BinaryLogisticRegressionSummary- 给定模型的二元逻辑回归结果\n",
    "train_results = log_reg.evaluate(train).predictions\n",
    "val_results = log_reg.evaluate(validation).predictions\n",
    "\n",
    "print('训练集效果',f1score_model(train_results))\n",
    "print('验证集效果',f1score_model(val_results))"
   ]
  },
  {
   "cell_type": "code",
   "execution_count": 33,
   "metadata": {},
   "outputs": [
    {
     "name": "stdout",
     "output_type": "stream",
     "text": [
      "训练集效果    precision  accuracy  recall  f1score\n",
      "0        1.0       1.0     1.0      1.0\n",
      "验证集效果    precision  accuracy  recall  f1score\n",
      "0        1.0       1.0     1.0      1.0\n"
     ]
    }
   ],
   "source": [
    "# ··········决策树··············\n",
    "dt = DecisionTreeClassifier(labelCol=\"label\", featuresCol=\"features\", impurity=\"gini\", maxDepth=10, maxBins=14)\n",
    "temp_model = dt.fit(train)\n",
    "train_results = temp_model.transform(train)\n",
    "val_results = dt.fit(validation).transform(validation)\n",
    "print('训练集效果',f1score_model(train_results))\n",
    "print('验证集效果',f1score_model(val_results))"
   ]
  },
  {
   "cell_type": "markdown",
   "metadata": {},
   "source": [
    "# (ΩДΩ)再次震惊 决策树的效果就是超级好"
   ]
  },
  {
   "cell_type": "markdown",
   "metadata": {},
   "source": [
    "## 为什么决策树的niubility这么好，我们看一下决策树中，各个feature在预测上的重要性吧~"
   ]
  },
  {
   "cell_type": "code",
   "execution_count": 34,
   "metadata": {},
   "outputs": [
    {
     "name": "stdout",
     "output_type": "stream",
     "text": [
      "+-----+-----+\n",
      "|label|count|\n",
      "+-----+-----+\n",
      "|    0|  106|\n",
      "|    1|   33|\n",
      "+-----+-----+\n",
      "\n",
      "+-----+-----+\n",
      "|label|count|\n",
      "+-----+-----+\n",
      "|    0|   27|\n",
      "|    1|   10|\n",
      "+-----+-----+\n",
      "\n",
      "+-----+-----+\n",
      "|label|count|\n",
      "+-----+-----+\n",
      "|    0|   40|\n",
      "|    1|    9|\n",
      "+-----+-----+\n",
      "\n"
     ]
    }
   ],
   "source": [
    "#·············重新使用 第一次预测使用的数据集···················\n",
    "# 划分train, test, validation 数据集\n",
    "train, test = df.select('features','label').randomSplit([0.75, 0.25], seed=42)\n",
    "train, validation = train.randomSplit([0.75, 0.25], seed=42)\n",
    "\n",
    "# 查看划分后的数据\n",
    "train.groupBy('label').count().show()\n",
    "validation.groupBy('label').count().show()\n",
    "test.groupBy('label').count().show()"
   ]
  },
  {
   "cell_type": "code",
   "execution_count": 35,
   "metadata": {},
   "outputs": [
    {
     "name": "stdout",
     "output_type": "stream",
     "text": [
      "训练集效果    precision  accuracy  recall  f1score\n",
      "0        1.0       1.0     1.0      1.0\n",
      "验证集效果    precision  accuracy  recall  f1score\n",
      "0        1.0       1.0     1.0      1.0\n"
     ]
    }
   ],
   "source": [
    "# ··········决策树··············\n",
    "dt = DecisionTreeClassifier(labelCol=\"label\", featuresCol=\"features\", impurity=\"gini\", maxDepth=10, maxBins=14)\n",
    "temp_model = dt.fit(train)\n",
    "train_results = temp_model.transform(train)\n",
    "val_results = dt.fit(validation).transform(validation)\n",
    "print('训练集效果',f1score_model(train_results))\n",
    "print('验证集效果',f1score_model(val_results))"
   ]
  },
  {
   "cell_type": "markdown",
   "metadata": {},
   "source": [
    "### 分析决策树的features Importance"
   ]
  },
  {
   "cell_type": "code",
   "execution_count": 36,
   "metadata": {},
   "outputs": [
    {
     "name": "stdout",
     "output_type": "stream",
     "text": [
      "['Add to Playlist', 'Error', 'Help', 'Home', 'Logout', 'Settings', 'Submit Downgrade', 'Upgrade', 'active_counts', 'active_time', 'gender']\n"
     ]
    }
   ],
   "source": [
    "features_notUsed_indices = [i  for i in list(range(20)) if i not in temp_model.featureImportances.indices.tolist()]\n",
    "features_notUsed = [feature_list[i] for i in features_notUsed_indices]\n",
    "print(features_notUsed)"
   ]
  },
  {
   "cell_type": "code",
   "execution_count": 37,
   "metadata": {
    "scrolled": false
   },
   "outputs": [
    {
     "data": {
      "text/plain": [
       "<BarContainer object of 10 artists>"
      ]
     },
     "execution_count": 37,
     "metadata": {},
     "output_type": "execute_result"
    },
    {
     "data": {
      "image/png": "[encoded data removed]",
      "text/plain": [
       "<Figure size 1440x720 with 1 Axes>"
      ]
     },
     "metadata": {
      "needs_background": "light"
     },
     "output_type": "display_data"
    }
   ],
   "source": [
    "features_used = [feature_list[i] for i in temp_model.featureImportances.indices]\n",
    "features_weight = temp_model.featureImportances.values\n",
    "plt.figure(figsize = (20,10))\n",
    "plt.bar(features_used, features_weight)"
   ]
  },
  {
   "cell_type": "code",
   "execution_count": 38,
   "metadata": {},
   "outputs": [],
   "source": [
    "temp = sorted(zip(features_weight,features_used), reverse = True)"
   ]
  },
  {
   "cell_type": "code",
   "execution_count": 39,
   "metadata": {},
   "outputs": [
    {
     "data": {
      "text/plain": [
       "<BarContainer object of 10 artists>"
      ]
     },
     "execution_count": 39,
     "metadata": {},
     "output_type": "execute_result"
    },
    {
     "data": {
      "image/png": "[encoded data removed]",
      "text/plain": [
       "<Figure size 1440x720 with 1 Axes>"
      ]
     },
     "metadata": {
      "needs_background": "light"
     },
     "output_type": "display_data"
    }
   ],
   "source": [
    "temp_index = [temp[i][0] for i in range(len(temp))]\n",
    "temp_value = [temp[i][1] for i in range(len(temp))]\n",
    "plt.figure(figsize = (20,10))\n",
    "plt.bar(temp_value, temp_index)"
   ]
  },
  {
   "cell_type": "code",
   "execution_count": 40,
   "metadata": {},
   "outputs": [
    {
     "data": {
      "text/plain": [
       "['active_freq',\n",
       " 'About',\n",
       " 'Roll Advert',\n",
       " 'Add Friend',\n",
       " 'NextSong',\n",
       " 'Save Settings',\n",
       " 'Thumbs Up',\n",
       " 'Thumbs Down',\n",
       " 'Downgrade',\n",
       " 'Submit Upgrade']"
      ]
     },
     "execution_count": 40,
     "metadata": {},
     "output_type": "execute_result"
    }
   ],
   "source": [
    "temp_value"
   ]
  },
  {
   "cell_type": "code",
   "execution_count": 58,
   "metadata": {},
   "outputs": [
    {
     "data": {
      "text/html": [
       "<div>\n",
       "<style scoped>\n",
       "    .dataframe tbody tr th:only-of-type {\n",
       "        vertical-align: middle;\n",
       "    }\n",
       "\n",
       "    .dataframe tbody tr th {\n",
       "        vertical-align: top;\n",
       "    }\n",
       "\n",
       "    .dataframe thead th {\n",
       "        text-align: right;\n",
       "    }\n",
       "</style>\n",
       "<table border=\"1\" class=\"dataframe\">\n",
       "  <thead>\n",
       "    <tr style=\"text-align: right;\">\n",
       "      <th>page</th>\n",
       "      <th>About</th>\n",
       "      <th>Roll Advert</th>\n",
       "      <th>Add Friend</th>\n",
       "      <th>NextSong</th>\n",
       "      <th>Save Settings</th>\n",
       "      <th>Thumbs Up</th>\n",
       "      <th>Thumbs Down</th>\n",
       "      <th>Downgrade</th>\n",
       "      <th>Submit Upgrade</th>\n",
       "    </tr>\n",
       "    <tr>\n",
       "      <th>userId</th>\n",
       "      <th></th>\n",
       "      <th></th>\n",
       "      <th></th>\n",
       "      <th></th>\n",
       "      <th></th>\n",
       "      <th></th>\n",
       "      <th></th>\n",
       "      <th></th>\n",
       "      <th></th>\n",
       "    </tr>\n",
       "  </thead>\n",
       "  <tbody>\n",
       "    <tr>\n",
       "      <td>100001</td>\n",
       "      <td>0.0</td>\n",
       "      <td>14.0</td>\n",
       "      <td>2.0</td>\n",
       "      <td>133.0</td>\n",
       "      <td>0.0</td>\n",
       "      <td>8.0</td>\n",
       "      <td>2.0</td>\n",
       "      <td>0.0</td>\n",
       "      <td>0.0</td>\n",
       "    </tr>\n",
       "    <tr>\n",
       "      <td>100003</td>\n",
       "      <td>0.0</td>\n",
       "      <td>9.0</td>\n",
       "      <td>0.0</td>\n",
       "      <td>51.0</td>\n",
       "      <td>0.0</td>\n",
       "      <td>3.0</td>\n",
       "      <td>0.0</td>\n",
       "      <td>0.0</td>\n",
       "      <td>0.0</td>\n",
       "    </tr>\n",
       "    <tr>\n",
       "      <td>100005</td>\n",
       "      <td>0.0</td>\n",
       "      <td>18.0</td>\n",
       "      <td>3.0</td>\n",
       "      <td>154.0</td>\n",
       "      <td>0.0</td>\n",
       "      <td>7.0</td>\n",
       "      <td>3.0</td>\n",
       "      <td>0.0</td>\n",
       "      <td>0.0</td>\n",
       "    </tr>\n",
       "    <tr>\n",
       "      <td>100006</td>\n",
       "      <td>0.0</td>\n",
       "      <td>3.0</td>\n",
       "      <td>4.0</td>\n",
       "      <td>26.0</td>\n",
       "      <td>0.0</td>\n",
       "      <td>2.0</td>\n",
       "      <td>2.0</td>\n",
       "      <td>0.0</td>\n",
       "      <td>0.0</td>\n",
       "    </tr>\n",
       "    <tr>\n",
       "      <td>100007</td>\n",
       "      <td>0.0</td>\n",
       "      <td>5.0</td>\n",
       "      <td>17.0</td>\n",
       "      <td>423.0</td>\n",
       "      <td>1.0</td>\n",
       "      <td>19.0</td>\n",
       "      <td>6.0</td>\n",
       "      <td>7.0</td>\n",
       "      <td>0.0</td>\n",
       "    </tr>\n",
       "    <tr>\n",
       "      <td>100009</td>\n",
       "      <td>1.0</td>\n",
       "      <td>42.0</td>\n",
       "      <td>7.0</td>\n",
       "      <td>518.0</td>\n",
       "      <td>1.0</td>\n",
       "      <td>23.0</td>\n",
       "      <td>8.0</td>\n",
       "      <td>5.0</td>\n",
       "      <td>1.0</td>\n",
       "    </tr>\n",
       "    <tr>\n",
       "      <td>100011</td>\n",
       "      <td>0.0</td>\n",
       "      <td>2.0</td>\n",
       "      <td>0.0</td>\n",
       "      <td>11.0</td>\n",
       "      <td>0.0</td>\n",
       "      <td>0.0</td>\n",
       "      <td>1.0</td>\n",
       "      <td>0.0</td>\n",
       "      <td>0.0</td>\n",
       "    </tr>\n",
       "    <tr>\n",
       "      <td>100012</td>\n",
       "      <td>1.0</td>\n",
       "      <td>38.0</td>\n",
       "      <td>2.0</td>\n",
       "      <td>476.0</td>\n",
       "      <td>0.0</td>\n",
       "      <td>18.0</td>\n",
       "      <td>9.0</td>\n",
       "      <td>4.0</td>\n",
       "      <td>1.0</td>\n",
       "    </tr>\n",
       "    <tr>\n",
       "      <td>100013</td>\n",
       "      <td>2.0</td>\n",
       "      <td>39.0</td>\n",
       "      <td>28.0</td>\n",
       "      <td>1131.0</td>\n",
       "      <td>3.0</td>\n",
       "      <td>39.0</td>\n",
       "      <td>15.0</td>\n",
       "      <td>13.0</td>\n",
       "      <td>1.0</td>\n",
       "    </tr>\n",
       "    <tr>\n",
       "      <td>100014</td>\n",
       "      <td>0.0</td>\n",
       "      <td>2.0</td>\n",
       "      <td>6.0</td>\n",
       "      <td>257.0</td>\n",
       "      <td>0.0</td>\n",
       "      <td>17.0</td>\n",
       "      <td>3.0</td>\n",
       "      <td>3.0</td>\n",
       "      <td>0.0</td>\n",
       "    </tr>\n",
       "    <tr>\n",
       "      <td>100015</td>\n",
       "      <td>4.0</td>\n",
       "      <td>69.0</td>\n",
       "      <td>14.0</td>\n",
       "      <td>800.0</td>\n",
       "      <td>1.0</td>\n",
       "      <td>35.0</td>\n",
       "      <td>8.0</td>\n",
       "      <td>5.0</td>\n",
       "      <td>2.0</td>\n",
       "    </tr>\n",
       "    <tr>\n",
       "      <td>100017</td>\n",
       "      <td>0.0</td>\n",
       "      <td>14.0</td>\n",
       "      <td>0.0</td>\n",
       "      <td>52.0</td>\n",
       "      <td>0.0</td>\n",
       "      <td>2.0</td>\n",
       "      <td>1.0</td>\n",
       "      <td>0.0</td>\n",
       "      <td>0.0</td>\n",
       "    </tr>\n",
       "    <tr>\n",
       "      <td>100019</td>\n",
       "      <td>1.0</td>\n",
       "      <td>11.0</td>\n",
       "      <td>2.0</td>\n",
       "      <td>62.0</td>\n",
       "      <td>0.0</td>\n",
       "      <td>1.0</td>\n",
       "      <td>1.0</td>\n",
       "      <td>0.0</td>\n",
       "      <td>0.0</td>\n",
       "    </tr>\n",
       "    <tr>\n",
       "      <td>100021</td>\n",
       "      <td>1.0</td>\n",
       "      <td>30.0</td>\n",
       "      <td>7.0</td>\n",
       "      <td>230.0</td>\n",
       "      <td>0.0</td>\n",
       "      <td>11.0</td>\n",
       "      <td>5.0</td>\n",
       "      <td>0.0</td>\n",
       "      <td>0.0</td>\n",
       "    </tr>\n",
       "    <tr>\n",
       "      <td>100022</td>\n",
       "      <td>1.0</td>\n",
       "      <td>115.0</td>\n",
       "      <td>11.0</td>\n",
       "      <td>681.0</td>\n",
       "      <td>2.0</td>\n",
       "      <td>45.0</td>\n",
       "      <td>20.0</td>\n",
       "      <td>0.0</td>\n",
       "      <td>0.0</td>\n",
       "    </tr>\n",
       "    <tr>\n",
       "      <td>100023</td>\n",
       "      <td>1.0</td>\n",
       "      <td>6.0</td>\n",
       "      <td>14.0</td>\n",
       "      <td>407.0</td>\n",
       "      <td>0.0</td>\n",
       "      <td>10.0</td>\n",
       "      <td>2.0</td>\n",
       "      <td>9.0</td>\n",
       "      <td>1.0</td>\n",
       "    </tr>\n",
       "    <tr>\n",
       "      <td>100024</td>\n",
       "      <td>0.0</td>\n",
       "      <td>3.0</td>\n",
       "      <td>0.0</td>\n",
       "      <td>22.0</td>\n",
       "      <td>0.0</td>\n",
       "      <td>5.0</td>\n",
       "      <td>0.0</td>\n",
       "      <td>0.0</td>\n",
       "      <td>0.0</td>\n",
       "    </tr>\n",
       "    <tr>\n",
       "      <td>100025</td>\n",
       "      <td>1.0</td>\n",
       "      <td>30.0</td>\n",
       "      <td>3.0</td>\n",
       "      <td>490.0</td>\n",
       "      <td>3.0</td>\n",
       "      <td>20.0</td>\n",
       "      <td>7.0</td>\n",
       "      <td>5.0</td>\n",
       "      <td>0.0</td>\n",
       "    </tr>\n",
       "    <tr>\n",
       "      <td>101</td>\n",
       "      <td>2.0</td>\n",
       "      <td>8.0</td>\n",
       "      <td>29.0</td>\n",
       "      <td>1797.0</td>\n",
       "      <td>2.0</td>\n",
       "      <td>86.0</td>\n",
       "      <td>16.0</td>\n",
       "      <td>22.0</td>\n",
       "      <td>1.0</td>\n",
       "    </tr>\n",
       "    <tr>\n",
       "      <td>103</td>\n",
       "      <td>1.0</td>\n",
       "      <td>14.0</td>\n",
       "      <td>25.0</td>\n",
       "      <td>1073.0</td>\n",
       "      <td>1.0</td>\n",
       "      <td>52.0</td>\n",
       "      <td>9.0</td>\n",
       "      <td>13.0</td>\n",
       "      <td>2.0</td>\n",
       "    </tr>\n",
       "    <tr>\n",
       "      <td>105</td>\n",
       "      <td>1.0</td>\n",
       "      <td>2.0</td>\n",
       "      <td>13.0</td>\n",
       "      <td>764.0</td>\n",
       "      <td>3.0</td>\n",
       "      <td>45.0</td>\n",
       "      <td>6.0</td>\n",
       "      <td>10.0</td>\n",
       "      <td>1.0</td>\n",
       "    </tr>\n",
       "    <tr>\n",
       "      <td>106</td>\n",
       "      <td>0.0</td>\n",
       "      <td>4.0</td>\n",
       "      <td>29.0</td>\n",
       "      <td>839.0</td>\n",
       "      <td>1.0</td>\n",
       "      <td>43.0</td>\n",
       "      <td>6.0</td>\n",
       "      <td>3.0</td>\n",
       "      <td>1.0</td>\n",
       "    </tr>\n",
       "    <tr>\n",
       "      <td>12</td>\n",
       "      <td>3.0</td>\n",
       "      <td>21.0</td>\n",
       "      <td>13.0</td>\n",
       "      <td>867.0</td>\n",
       "      <td>1.0</td>\n",
       "      <td>42.0</td>\n",
       "      <td>9.0</td>\n",
       "      <td>5.0</td>\n",
       "      <td>2.0</td>\n",
       "    </tr>\n",
       "    <tr>\n",
       "      <td>121</td>\n",
       "      <td>2.0</td>\n",
       "      <td>28.0</td>\n",
       "      <td>20.0</td>\n",
       "      <td>726.0</td>\n",
       "      <td>3.0</td>\n",
       "      <td>28.0</td>\n",
       "      <td>8.0</td>\n",
       "      <td>4.0</td>\n",
       "      <td>1.0</td>\n",
       "    </tr>\n",
       "    <tr>\n",
       "      <td>122</td>\n",
       "      <td>0.0</td>\n",
       "      <td>2.0</td>\n",
       "      <td>1.0</td>\n",
       "      <td>41.0</td>\n",
       "      <td>0.0</td>\n",
       "      <td>3.0</td>\n",
       "      <td>1.0</td>\n",
       "      <td>0.0</td>\n",
       "      <td>1.0</td>\n",
       "    </tr>\n",
       "    <tr>\n",
       "      <td>125</td>\n",
       "      <td>0.0</td>\n",
       "      <td>1.0</td>\n",
       "      <td>0.0</td>\n",
       "      <td>8.0</td>\n",
       "      <td>0.0</td>\n",
       "      <td>0.0</td>\n",
       "      <td>0.0</td>\n",
       "      <td>0.0</td>\n",
       "      <td>0.0</td>\n",
       "    </tr>\n",
       "    <tr>\n",
       "      <td>129</td>\n",
       "      <td>2.0</td>\n",
       "      <td>2.0</td>\n",
       "      <td>11.0</td>\n",
       "      <td>331.0</td>\n",
       "      <td>1.0</td>\n",
       "      <td>7.0</td>\n",
       "      <td>7.0</td>\n",
       "      <td>8.0</td>\n",
       "      <td>1.0</td>\n",
       "    </tr>\n",
       "    <tr>\n",
       "      <td>143</td>\n",
       "      <td>0.0</td>\n",
       "      <td>15.0</td>\n",
       "      <td>6.0</td>\n",
       "      <td>101.0</td>\n",
       "      <td>1.0</td>\n",
       "      <td>5.0</td>\n",
       "      <td>0.0</td>\n",
       "      <td>0.0</td>\n",
       "      <td>0.0</td>\n",
       "    </tr>\n",
       "    <tr>\n",
       "      <td>17</td>\n",
       "      <td>2.0</td>\n",
       "      <td>4.0</td>\n",
       "      <td>12.0</td>\n",
       "      <td>927.0</td>\n",
       "      <td>0.0</td>\n",
       "      <td>40.0</td>\n",
       "      <td>13.0</td>\n",
       "      <td>12.0</td>\n",
       "      <td>1.0</td>\n",
       "    </tr>\n",
       "    <tr>\n",
       "      <td>18</td>\n",
       "      <td>1.0</td>\n",
       "      <td>0.0</td>\n",
       "      <td>10.0</td>\n",
       "      <td>429.0</td>\n",
       "      <td>1.0</td>\n",
       "      <td>20.0</td>\n",
       "      <td>1.0</td>\n",
       "      <td>3.0</td>\n",
       "      <td>0.0</td>\n",
       "    </tr>\n",
       "    <tr>\n",
       "      <td>200001</td>\n",
       "      <td>0.0</td>\n",
       "      <td>3.0</td>\n",
       "      <td>0.0</td>\n",
       "      <td>115.0</td>\n",
       "      <td>2.0</td>\n",
       "      <td>10.0</td>\n",
       "      <td>1.0</td>\n",
       "      <td>0.0</td>\n",
       "      <td>0.0</td>\n",
       "    </tr>\n",
       "    <tr>\n",
       "      <td>200011</td>\n",
       "      <td>1.0</td>\n",
       "      <td>27.0</td>\n",
       "      <td>13.0</td>\n",
       "      <td>650.0</td>\n",
       "      <td>3.0</td>\n",
       "      <td>37.0</td>\n",
       "      <td>24.0</td>\n",
       "      <td>10.0</td>\n",
       "      <td>1.0</td>\n",
       "    </tr>\n",
       "    <tr>\n",
       "      <td>200015</td>\n",
       "      <td>0.0</td>\n",
       "      <td>22.0</td>\n",
       "      <td>2.0</td>\n",
       "      <td>258.0</td>\n",
       "      <td>1.0</td>\n",
       "      <td>10.0</td>\n",
       "      <td>10.0</td>\n",
       "      <td>0.0</td>\n",
       "      <td>0.0</td>\n",
       "    </tr>\n",
       "    <tr>\n",
       "      <td>200016</td>\n",
       "      <td>0.0</td>\n",
       "      <td>18.0</td>\n",
       "      <td>0.0</td>\n",
       "      <td>206.0</td>\n",
       "      <td>0.0</td>\n",
       "      <td>19.0</td>\n",
       "      <td>5.0</td>\n",
       "      <td>0.0</td>\n",
       "      <td>0.0</td>\n",
       "    </tr>\n",
       "    <tr>\n",
       "      <td>200017</td>\n",
       "      <td>0.0</td>\n",
       "      <td>9.0</td>\n",
       "      <td>8.0</td>\n",
       "      <td>493.0</td>\n",
       "      <td>0.0</td>\n",
       "      <td>29.0</td>\n",
       "      <td>16.0</td>\n",
       "      <td>4.0</td>\n",
       "      <td>1.0</td>\n",
       "    </tr>\n",
       "    <tr>\n",
       "      <td>200018</td>\n",
       "      <td>1.0</td>\n",
       "      <td>32.0</td>\n",
       "      <td>15.0</td>\n",
       "      <td>367.0</td>\n",
       "      <td>0.0</td>\n",
       "      <td>13.0</td>\n",
       "      <td>11.0</td>\n",
       "      <td>0.0</td>\n",
       "      <td>0.0</td>\n",
       "    </tr>\n",
       "    <tr>\n",
       "      <td>200020</td>\n",
       "      <td>2.0</td>\n",
       "      <td>69.0</td>\n",
       "      <td>10.0</td>\n",
       "      <td>1169.0</td>\n",
       "      <td>1.0</td>\n",
       "      <td>56.0</td>\n",
       "      <td>36.0</td>\n",
       "      <td>6.0</td>\n",
       "      <td>1.0</td>\n",
       "    </tr>\n",
       "    <tr>\n",
       "      <td>200021</td>\n",
       "      <td>3.0</td>\n",
       "      <td>11.0</td>\n",
       "      <td>19.0</td>\n",
       "      <td>1227.0</td>\n",
       "      <td>2.0</td>\n",
       "      <td>55.0</td>\n",
       "      <td>35.0</td>\n",
       "      <td>26.0</td>\n",
       "      <td>1.0</td>\n",
       "    </tr>\n",
       "    <tr>\n",
       "      <td>200024</td>\n",
       "      <td>0.0</td>\n",
       "      <td>27.0</td>\n",
       "      <td>9.0</td>\n",
       "      <td>417.0</td>\n",
       "      <td>2.0</td>\n",
       "      <td>19.0</td>\n",
       "      <td>13.0</td>\n",
       "      <td>4.0</td>\n",
       "      <td>1.0</td>\n",
       "    </tr>\n",
       "    <tr>\n",
       "      <td>28</td>\n",
       "      <td>3.0</td>\n",
       "      <td>26.0</td>\n",
       "      <td>20.0</td>\n",
       "      <td>1457.0</td>\n",
       "      <td>0.0</td>\n",
       "      <td>79.0</td>\n",
       "      <td>22.0</td>\n",
       "      <td>15.0</td>\n",
       "      <td>1.0</td>\n",
       "    </tr>\n",
       "    <tr>\n",
       "      <td>29</td>\n",
       "      <td>2.0</td>\n",
       "      <td>22.0</td>\n",
       "      <td>47.0</td>\n",
       "      <td>3028.0</td>\n",
       "      <td>4.0</td>\n",
       "      <td>154.0</td>\n",
       "      <td>22.0</td>\n",
       "      <td>18.0</td>\n",
       "      <td>1.0</td>\n",
       "    </tr>\n",
       "    <tr>\n",
       "      <td>3</td>\n",
       "      <td>1.0</td>\n",
       "      <td>1.0</td>\n",
       "      <td>1.0</td>\n",
       "      <td>214.0</td>\n",
       "      <td>0.0</td>\n",
       "      <td>14.0</td>\n",
       "      <td>3.0</td>\n",
       "      <td>2.0</td>\n",
       "      <td>0.0</td>\n",
       "    </tr>\n",
       "    <tr>\n",
       "      <td>300001</td>\n",
       "      <td>1.0</td>\n",
       "      <td>6.0</td>\n",
       "      <td>30.0</td>\n",
       "      <td>1749.0</td>\n",
       "      <td>3.0</td>\n",
       "      <td>148.0</td>\n",
       "      <td>17.0</td>\n",
       "      <td>9.0</td>\n",
       "      <td>1.0</td>\n",
       "    </tr>\n",
       "    <tr>\n",
       "      <td>300007</td>\n",
       "      <td>0.0</td>\n",
       "      <td>2.0</td>\n",
       "      <td>4.0</td>\n",
       "      <td>111.0</td>\n",
       "      <td>1.0</td>\n",
       "      <td>11.0</td>\n",
       "      <td>1.0</td>\n",
       "      <td>2.0</td>\n",
       "      <td>0.0</td>\n",
       "    </tr>\n",
       "    <tr>\n",
       "      <td>32</td>\n",
       "      <td>0.0</td>\n",
       "      <td>3.0</td>\n",
       "      <td>0.0</td>\n",
       "      <td>80.0</td>\n",
       "      <td>0.0</td>\n",
       "      <td>7.0</td>\n",
       "      <td>1.0</td>\n",
       "      <td>2.0</td>\n",
       "      <td>1.0</td>\n",
       "    </tr>\n",
       "    <tr>\n",
       "      <td>51</td>\n",
       "      <td>2.0</td>\n",
       "      <td>0.0</td>\n",
       "      <td>28.0</td>\n",
       "      <td>2111.0</td>\n",
       "      <td>1.0</td>\n",
       "      <td>100.0</td>\n",
       "      <td>21.0</td>\n",
       "      <td>23.0</td>\n",
       "      <td>0.0</td>\n",
       "    </tr>\n",
       "    <tr>\n",
       "      <td>53</td>\n",
       "      <td>4.0</td>\n",
       "      <td>25.0</td>\n",
       "      <td>25.0</td>\n",
       "      <td>1746.0</td>\n",
       "      <td>3.0</td>\n",
       "      <td>69.0</td>\n",
       "      <td>16.0</td>\n",
       "      <td>13.0</td>\n",
       "      <td>1.0</td>\n",
       "    </tr>\n",
       "    <tr>\n",
       "      <td>54</td>\n",
       "      <td>5.0</td>\n",
       "      <td>47.0</td>\n",
       "      <td>33.0</td>\n",
       "      <td>2841.0</td>\n",
       "      <td>3.0</td>\n",
       "      <td>163.0</td>\n",
       "      <td>29.0</td>\n",
       "      <td>39.0</td>\n",
       "      <td>1.0</td>\n",
       "    </tr>\n",
       "    <tr>\n",
       "      <td>58</td>\n",
       "      <td>0.0</td>\n",
       "      <td>11.0</td>\n",
       "      <td>19.0</td>\n",
       "      <td>1694.0</td>\n",
       "      <td>2.0</td>\n",
       "      <td>94.0</td>\n",
       "      <td>20.0</td>\n",
       "      <td>18.0</td>\n",
       "      <td>1.0</td>\n",
       "    </tr>\n",
       "    <tr>\n",
       "      <td>70</td>\n",
       "      <td>2.0</td>\n",
       "      <td>4.0</td>\n",
       "      <td>26.0</td>\n",
       "      <td>1490.0</td>\n",
       "      <td>4.0</td>\n",
       "      <td>90.0</td>\n",
       "      <td>12.0</td>\n",
       "      <td>13.0</td>\n",
       "      <td>1.0</td>\n",
       "    </tr>\n",
       "    <tr>\n",
       "      <td>73</td>\n",
       "      <td>1.0</td>\n",
       "      <td>1.0</td>\n",
       "      <td>11.0</td>\n",
       "      <td>377.0</td>\n",
       "      <td>1.0</td>\n",
       "      <td>14.0</td>\n",
       "      <td>7.0</td>\n",
       "      <td>1.0</td>\n",
       "      <td>1.0</td>\n",
       "    </tr>\n",
       "    <tr>\n",
       "      <td>87</td>\n",
       "      <td>1.0</td>\n",
       "      <td>50.0</td>\n",
       "      <td>27.0</td>\n",
       "      <td>767.0</td>\n",
       "      <td>0.0</td>\n",
       "      <td>32.0</td>\n",
       "      <td>5.0</td>\n",
       "      <td>1.0</td>\n",
       "      <td>1.0</td>\n",
       "    </tr>\n",
       "  </tbody>\n",
       "</table>\n",
       "</div>"
      ],
      "text/plain": [
       "page    About  Roll Advert  Add Friend  NextSong  Save Settings  Thumbs Up  \\\n",
       "userId                                                                       \n",
       "100001    0.0         14.0         2.0     133.0            0.0        8.0   \n",
       "100003    0.0          9.0         0.0      51.0            0.0        3.0   \n",
       "100005    0.0         18.0         3.0     154.0            0.0        7.0   \n",
       "100006    0.0          3.0         4.0      26.0            0.0        2.0   \n",
       "100007    0.0          5.0        17.0     423.0            1.0       19.0   \n",
       "100009    1.0         42.0         7.0     518.0            1.0       23.0   \n",
       "100011    0.0          2.0         0.0      11.0            0.0        0.0   \n",
       "100012    1.0         38.0         2.0     476.0            0.0       18.0   \n",
       "100013    2.0         39.0        28.0    1131.0            3.0       39.0   \n",
       "100014    0.0          2.0         6.0     257.0            0.0       17.0   \n",
       "100015    4.0         69.0        14.0     800.0            1.0       35.0   \n",
       "100017    0.0         14.0         0.0      52.0            0.0        2.0   \n",
       "100019    1.0         11.0         2.0      62.0            0.0        1.0   \n",
       "100021    1.0         30.0         7.0     230.0            0.0       11.0   \n",
       "100022    1.0        115.0        11.0     681.0            2.0       45.0   \n",
       "100023    1.0          6.0        14.0     407.0            0.0       10.0   \n",
       "100024    0.0          3.0         0.0      22.0            0.0        5.0   \n",
       "100025    1.0         30.0         3.0     490.0            3.0       20.0   \n",
       "101       2.0          8.0        29.0    1797.0            2.0       86.0   \n",
       "103       1.0         14.0        25.0    1073.0            1.0       52.0   \n",
       "105       1.0          2.0        13.0     764.0            3.0       45.0   \n",
       "106       0.0          4.0        29.0     839.0            1.0       43.0   \n",
       "12        3.0         21.0        13.0     867.0            1.0       42.0   \n",
       "121       2.0         28.0        20.0     726.0            3.0       28.0   \n",
       "122       0.0          2.0         1.0      41.0            0.0        3.0   \n",
       "125       0.0          1.0         0.0       8.0            0.0        0.0   \n",
       "129       2.0          2.0        11.0     331.0            1.0        7.0   \n",
       "143       0.0         15.0         6.0     101.0            1.0        5.0   \n",
       "17        2.0          4.0        12.0     927.0            0.0       40.0   \n",
       "18        1.0          0.0        10.0     429.0            1.0       20.0   \n",
       "200001    0.0          3.0         0.0     115.0            2.0       10.0   \n",
       "200011    1.0         27.0        13.0     650.0            3.0       37.0   \n",
       "200015    0.0         22.0         2.0     258.0            1.0       10.0   \n",
       "200016    0.0         18.0         0.0     206.0            0.0       19.0   \n",
       "200017    0.0          9.0         8.0     493.0            0.0       29.0   \n",
       "200018    1.0         32.0        15.0     367.0            0.0       13.0   \n",
       "200020    2.0         69.0        10.0    1169.0            1.0       56.0   \n",
       "200021    3.0         11.0        19.0    1227.0            2.0       55.0   \n",
       "200024    0.0         27.0         9.0     417.0            2.0       19.0   \n",
       "28        3.0         26.0        20.0    1457.0            0.0       79.0   \n",
       "29        2.0         22.0        47.0    3028.0            4.0      154.0   \n",
       "3         1.0          1.0         1.0     214.0            0.0       14.0   \n",
       "300001    1.0          6.0        30.0    1749.0            3.0      148.0   \n",
       "300007    0.0          2.0         4.0     111.0            1.0       11.0   \n",
       "32        0.0          3.0         0.0      80.0            0.0        7.0   \n",
       "51        2.0          0.0        28.0    2111.0            1.0      100.0   \n",
       "53        4.0         25.0        25.0    1746.0            3.0       69.0   \n",
       "54        5.0         47.0        33.0    2841.0            3.0      163.0   \n",
       "58        0.0         11.0        19.0    1694.0            2.0       94.0   \n",
       "70        2.0          4.0        26.0    1490.0            4.0       90.0   \n",
       "73        1.0          1.0        11.0     377.0            1.0       14.0   \n",
       "87        1.0         50.0        27.0     767.0            0.0       32.0   \n",
       "\n",
       "page    Thumbs Down  Downgrade  Submit Upgrade  \n",
       "userId                                          \n",
       "100001          2.0        0.0             0.0  \n",
       "100003          0.0        0.0             0.0  \n",
       "100005          3.0        0.0             0.0  \n",
       "100006          2.0        0.0             0.0  \n",
       "100007          6.0        7.0             0.0  \n",
       "100009          8.0        5.0             1.0  \n",
       "100011          1.0        0.0             0.0  \n",
       "100012          9.0        4.0             1.0  \n",
       "100013         15.0       13.0             1.0  \n",
       "100014          3.0        3.0             0.0  \n",
       "100015          8.0        5.0             2.0  \n",
       "100017          1.0        0.0             0.0  \n",
       "100019          1.0        0.0             0.0  \n",
       "100021          5.0        0.0             0.0  \n",
       "100022         20.0        0.0             0.0  \n",
       "100023          2.0        9.0             1.0  \n",
       "100024          0.0        0.0             0.0  \n",
       "100025          7.0        5.0             0.0  \n",
       "101            16.0       22.0             1.0  \n",
       "103             9.0       13.0             2.0  \n",
       "105             6.0       10.0             1.0  \n",
       "106             6.0        3.0             1.0  \n",
       "12              9.0        5.0             2.0  \n",
       "121             8.0        4.0             1.0  \n",
       "122             1.0        0.0             1.0  \n",
       "125             0.0        0.0             0.0  \n",
       "129             7.0        8.0             1.0  \n",
       "143             0.0        0.0             0.0  \n",
       "17             13.0       12.0             1.0  \n",
       "18              1.0        3.0             0.0  \n",
       "200001          1.0        0.0             0.0  \n",
       "200011         24.0       10.0             1.0  \n",
       "200015         10.0        0.0             0.0  \n",
       "200016          5.0        0.0             0.0  \n",
       "200017         16.0        4.0             1.0  \n",
       "200018         11.0        0.0             0.0  \n",
       "200020         36.0        6.0             1.0  \n",
       "200021         35.0       26.0             1.0  \n",
       "200024         13.0        4.0             1.0  \n",
       "28             22.0       15.0             1.0  \n",
       "29             22.0       18.0             1.0  \n",
       "3               3.0        2.0             0.0  \n",
       "300001         17.0        9.0             1.0  \n",
       "300007          1.0        2.0             0.0  \n",
       "32              1.0        2.0             1.0  \n",
       "51             21.0       23.0             0.0  \n",
       "53             16.0       13.0             1.0  \n",
       "54             29.0       39.0             1.0  \n",
       "58             20.0       18.0             1.0  \n",
       "70             12.0       13.0             1.0  \n",
       "73              7.0        1.0             1.0  \n",
       "87              5.0        1.0             1.0  "
      ]
     },
     "execution_count": 58,
     "metadata": {},
     "output_type": "execute_result"
    }
   ],
   "source": [
    "temp = churn_pages[temp_value[1:10]]\n",
    "temp"
   ]
  },
  {
   "cell_type": "code",
   "execution_count": 65,
   "metadata": {
    "scrolled": true
   },
   "outputs": [
    {
     "data": {
      "text/plain": [
       "page\n",
       "About               1.076923\n",
       "Roll Advert        18.596154\n",
       "Add Friend         12.230769\n",
       "NextSong          699.884615\n",
       "Save Settings       1.115385\n",
       "Thumbs Up          35.750000\n",
       "Thumbs Down         9.538462\n",
       "Downgrade           6.480769\n",
       "Submit Upgrade      0.615385\n",
       "dtype: float64"
      ]
     },
     "execution_count": 65,
     "metadata": {},
     "output_type": "execute_result"
    }
   ],
   "source": [
    "temp.mean()"
   ]
  },
  {
   "cell_type": "code",
   "execution_count": 67,
   "metadata": {},
   "outputs": [
    {
     "data": {
      "text/plain": [
       "page\n",
       "About               1.0\n",
       "Roll Advert        11.0\n",
       "Add Friend         10.5\n",
       "NextSong          452.5\n",
       "Save Settings       1.0\n",
       "Thumbs Up          19.5\n",
       "Thumbs Down         7.0\n",
       "Downgrade           4.0\n",
       "Submit Upgrade      1.0\n",
       "dtype: float64"
      ]
     },
     "execution_count": 67,
     "metadata": {},
     "output_type": "execute_result"
    }
   ],
   "source": [
    "temp.median()"
   ]
  },
  {
   "cell_type": "code",
   "execution_count": 44,
   "metadata": {},
   "outputs": [
    {
     "data": {
      "text/plain": [
       "page\n",
       "About                2.537572\n",
       "Roll Advert         17.144509\n",
       "Add Friend          21.046243\n",
       "NextSong          1108.173410\n",
       "Save Settings        1.456647\n",
       "Thumbs Up           61.803468\n",
       "Thumbs Down         11.849711\n",
       "Downgrade            9.930636\n",
       "Submit Upgrade       0.734104\n",
       "dtype: float64"
      ]
     },
     "execution_count": 44,
     "metadata": {},
     "output_type": "execute_result"
    }
   ],
   "source": [
    "temp = stay_pages[temp_value[1:10]]\n",
    "temp.mean()"
   ]
  },
  {
   "cell_type": "code",
   "execution_count": 45,
   "metadata": {},
   "outputs": [
    {
     "data": {
      "text/plain": [
       "page\n",
       "About               1.0\n",
       "Roll Advert        11.0\n",
       "Add Friend         16.0\n",
       "NextSong          747.0\n",
       "Save Settings       1.0\n",
       "Thumbs Up          41.0\n",
       "Thumbs Down         8.0\n",
       "Downgrade           6.0\n",
       "Submit Upgrade      1.0\n",
       "dtype: float64"
      ]
     },
     "execution_count": 45,
     "metadata": {},
     "output_type": "execute_result"
    }
   ],
   "source": [
    "temp.median()"
   ]
  },
  {
   "cell_type": "code",
   "execution_count": 46,
   "metadata": {
    "scrolled": true
   },
   "outputs": [
    {
     "data": {
      "text/html": [
       "<div>\n",
       "<style scoped>\n",
       "    .dataframe tbody tr th:only-of-type {\n",
       "        vertical-align: middle;\n",
       "    }\n",
       "\n",
       "    .dataframe tbody tr th {\n",
       "        vertical-align: top;\n",
       "    }\n",
       "\n",
       "    .dataframe thead th {\n",
       "        text-align: right;\n",
       "    }\n",
       "</style>\n",
       "<table border=\"1\" class=\"dataframe\">\n",
       "  <thead>\n",
       "    <tr style=\"text-align: right;\">\n",
       "      <th>page</th>\n",
       "      <th>About</th>\n",
       "      <th>Roll Advert</th>\n",
       "      <th>Add Friend</th>\n",
       "      <th>NextSong</th>\n",
       "      <th>Save Settings</th>\n",
       "      <th>Thumbs Up</th>\n",
       "      <th>Thumbs Down</th>\n",
       "      <th>Downgrade</th>\n",
       "      <th>Submit Upgrade</th>\n",
       "    </tr>\n",
       "    <tr>\n",
       "      <th>userId</th>\n",
       "      <th></th>\n",
       "      <th></th>\n",
       "      <th></th>\n",
       "      <th></th>\n",
       "      <th></th>\n",
       "      <th></th>\n",
       "      <th></th>\n",
       "      <th></th>\n",
       "      <th></th>\n",
       "    </tr>\n",
       "  </thead>\n",
       "  <tbody>\n",
       "    <tr>\n",
       "      <td>10</td>\n",
       "      <td>2.0</td>\n",
       "      <td>1.0</td>\n",
       "      <td>12.0</td>\n",
       "      <td>673.0</td>\n",
       "      <td>1.0</td>\n",
       "      <td>37.0</td>\n",
       "      <td>4.0</td>\n",
       "      <td>7.0</td>\n",
       "      <td>0.0</td>\n",
       "    </tr>\n",
       "    <tr>\n",
       "      <td>100</td>\n",
       "      <td>12.0</td>\n",
       "      <td>25.0</td>\n",
       "      <td>49.0</td>\n",
       "      <td>2682.0</td>\n",
       "      <td>5.0</td>\n",
       "      <td>148.0</td>\n",
       "      <td>27.0</td>\n",
       "      <td>30.0</td>\n",
       "      <td>1.0</td>\n",
       "    </tr>\n",
       "    <tr>\n",
       "      <td>100002</td>\n",
       "      <td>0.0</td>\n",
       "      <td>3.0</td>\n",
       "      <td>1.0</td>\n",
       "      <td>195.0</td>\n",
       "      <td>0.0</td>\n",
       "      <td>5.0</td>\n",
       "      <td>0.0</td>\n",
       "      <td>2.0</td>\n",
       "      <td>0.0</td>\n",
       "    </tr>\n",
       "    <tr>\n",
       "      <td>100004</td>\n",
       "      <td>0.0</td>\n",
       "      <td>86.0</td>\n",
       "      <td>19.0</td>\n",
       "      <td>942.0</td>\n",
       "      <td>2.0</td>\n",
       "      <td>35.0</td>\n",
       "      <td>11.0</td>\n",
       "      <td>10.0</td>\n",
       "      <td>3.0</td>\n",
       "    </tr>\n",
       "    <tr>\n",
       "      <td>100008</td>\n",
       "      <td>3.0</td>\n",
       "      <td>20.0</td>\n",
       "      <td>17.0</td>\n",
       "      <td>772.0</td>\n",
       "      <td>0.0</td>\n",
       "      <td>37.0</td>\n",
       "      <td>6.0</td>\n",
       "      <td>10.0</td>\n",
       "      <td>0.0</td>\n",
       "    </tr>\n",
       "    <tr>\n",
       "      <td>...</td>\n",
       "      <td>...</td>\n",
       "      <td>...</td>\n",
       "      <td>...</td>\n",
       "      <td>...</td>\n",
       "      <td>...</td>\n",
       "      <td>...</td>\n",
       "      <td>...</td>\n",
       "      <td>...</td>\n",
       "      <td>...</td>\n",
       "    </tr>\n",
       "    <tr>\n",
       "      <td>95</td>\n",
       "      <td>4.0</td>\n",
       "      <td>50.0</td>\n",
       "      <td>32.0</td>\n",
       "      <td>1694.0</td>\n",
       "      <td>0.0</td>\n",
       "      <td>91.0</td>\n",
       "      <td>25.0</td>\n",
       "      <td>15.0</td>\n",
       "      <td>0.0</td>\n",
       "    </tr>\n",
       "    <tr>\n",
       "      <td>96</td>\n",
       "      <td>3.0</td>\n",
       "      <td>17.0</td>\n",
       "      <td>40.0</td>\n",
       "      <td>1802.0</td>\n",
       "      <td>1.0</td>\n",
       "      <td>92.0</td>\n",
       "      <td>24.0</td>\n",
       "      <td>20.0</td>\n",
       "      <td>1.0</td>\n",
       "    </tr>\n",
       "    <tr>\n",
       "      <td>97</td>\n",
       "      <td>5.0</td>\n",
       "      <td>24.0</td>\n",
       "      <td>32.0</td>\n",
       "      <td>1975.0</td>\n",
       "      <td>2.0</td>\n",
       "      <td>108.0</td>\n",
       "      <td>12.0</td>\n",
       "      <td>17.0</td>\n",
       "      <td>1.0</td>\n",
       "    </tr>\n",
       "    <tr>\n",
       "      <td>98</td>\n",
       "      <td>3.0</td>\n",
       "      <td>30.0</td>\n",
       "      <td>45.0</td>\n",
       "      <td>2401.0</td>\n",
       "      <td>4.0</td>\n",
       "      <td>115.0</td>\n",
       "      <td>22.0</td>\n",
       "      <td>25.0</td>\n",
       "      <td>1.0</td>\n",
       "    </tr>\n",
       "    <tr>\n",
       "      <td>99</td>\n",
       "      <td>2.0</td>\n",
       "      <td>10.0</td>\n",
       "      <td>12.0</td>\n",
       "      <td>505.0</td>\n",
       "      <td>0.0</td>\n",
       "      <td>27.0</td>\n",
       "      <td>5.0</td>\n",
       "      <td>2.0</td>\n",
       "      <td>1.0</td>\n",
       "    </tr>\n",
       "  </tbody>\n",
       "</table>\n",
       "<p>173 rows × 9 columns</p>\n",
       "</div>"
      ],
      "text/plain": [
       "page    About  Roll Advert  Add Friend  NextSong  Save Settings  Thumbs Up  \\\n",
       "userId                                                                       \n",
       "10        2.0          1.0        12.0     673.0            1.0       37.0   \n",
       "100      12.0         25.0        49.0    2682.0            5.0      148.0   \n",
       "100002    0.0          3.0         1.0     195.0            0.0        5.0   \n",
       "100004    0.0         86.0        19.0     942.0            2.0       35.0   \n",
       "100008    3.0         20.0        17.0     772.0            0.0       37.0   \n",
       "...       ...          ...         ...       ...            ...        ...   \n",
       "95        4.0         50.0        32.0    1694.0            0.0       91.0   \n",
       "96        3.0         17.0        40.0    1802.0            1.0       92.0   \n",
       "97        5.0         24.0        32.0    1975.0            2.0      108.0   \n",
       "98        3.0         30.0        45.0    2401.0            4.0      115.0   \n",
       "99        2.0         10.0        12.0     505.0            0.0       27.0   \n",
       "\n",
       "page    Thumbs Down  Downgrade  Submit Upgrade  \n",
       "userId                                          \n",
       "10              4.0        7.0             0.0  \n",
       "100            27.0       30.0             1.0  \n",
       "100002          0.0        2.0             0.0  \n",
       "100004         11.0       10.0             3.0  \n",
       "100008          6.0       10.0             0.0  \n",
       "...             ...        ...             ...  \n",
       "95             25.0       15.0             0.0  \n",
       "96             24.0       20.0             1.0  \n",
       "97             12.0       17.0             1.0  \n",
       "98             22.0       25.0             1.0  \n",
       "99              5.0        2.0             1.0  \n",
       "\n",
       "[173 rows x 9 columns]"
      ]
     },
     "execution_count": 46,
     "metadata": {},
     "output_type": "execute_result"
    }
   ],
   "source": [
    "temp"
   ]
  },
  {
   "cell_type": "markdown",
   "metadata": {},
   "source": [
    "## 补充：churn和stay的  'page' 数据可视化"
   ]
  },
  {
   "cell_type": "code",
   "execution_count": 47,
   "metadata": {},
   "outputs": [],
   "source": [
    "from sklearn import preprocessing\n",
    "min_max_scaler = preprocessing.MinMaxScaler()\n",
    "np_scaled_churn = pd.DataFrame(min_max_scaler.fit_transform(churn_pages))\n",
    "np_scaled_stay = pd.DataFrame(min_max_scaler.fit_transform(stay_pages))"
   ]
  },
  {
   "cell_type": "code",
   "execution_count": 48,
   "metadata": {},
   "outputs": [
    {
     "data": {
      "text/plain": [
       "<matplotlib.axes._subplots.AxesSubplot at 0xa27add8d0>"
      ]
     },
     "execution_count": 48,
     "metadata": {},
     "output_type": "execute_result"
    },
    {
     "data": {
      "image/png": "[encoded data removed]",
      "text/plain": [
       "<Figure size 432x288 with 1 Axes>"
      ]
     },
     "metadata": {
      "needs_background": "light"
     },
     "output_type": "display_data"
    }
   ],
   "source": [
    "np_scaled_churn.plot.box()"
   ]
  },
  {
   "cell_type": "code",
   "execution_count": 49,
   "metadata": {},
   "outputs": [
    {
     "data": {
      "text/plain": [
       "<matplotlib.axes._subplots.AxesSubplot at 0xa293fd2d0>"
      ]
     },
     "execution_count": 49,
     "metadata": {},
     "output_type": "execute_result"
    },
    {
     "data": {
      "image/png": "[encoded data removed]",
      "text/plain": [
       "<Figure size 432x288 with 1 Axes>"
      ]
     },
     "metadata": {
      "needs_background": "light"
     },
     "output_type": "display_data"
    }
   ],
   "source": [
    "np_scaled_stay.plot.box()"
   ]
  },
  {
   "cell_type": "code",
   "execution_count": 50,
   "metadata": {
    "scrolled": true
   },
   "outputs": [
    {
     "data": {
      "text/plain": [
       "[<matplotlib.lines.Line2D at 0xa2a66bd50>]"
      ]
     },
     "execution_count": 50,
     "metadata": {},
     "output_type": "execute_result"
    },
    {
     "data": {
      "image/png": "[encoded data removed]",
      "text/plain": [
       "<Figure size 432x288 with 1 Axes>"
      ]
     },
     "metadata": {
      "needs_background": "light"
     },
     "output_type": "display_data"
    }
   ],
   "source": [
    "plt.plot(np_scaled_churn.mean().values)\n",
    "plt.plot(np_scaled_stay.mean().values)"
   ]
  },
  {
   "cell_type": "markdown",
   "metadata": {},
   "source": [
    "### 最后一步，用test测试集"
   ]
  },
  {
   "cell_type": "code",
   "execution_count": 51,
   "metadata": {},
   "outputs": [
    {
     "name": "stdout",
     "output_type": "stream",
     "text": [
      "测试集效果    precision  accuracy  recall  f1score\n",
      "0        1.0       1.0     1.0      1.0\n"
     ]
    }
   ],
   "source": [
    "test_results = dt.fit(test).transform(test)\n",
    "print('测试集效果',f1score_model(test_results))"
   ]
  },
  {
   "cell_type": "markdown",
   "metadata": {},
   "source": [
    "## 补充2：尝试只用'active freq'，'About','Roll Advert'进行预测"
   ]
  },
  {
   "cell_type": "code",
   "execution_count": 52,
   "metadata": {},
   "outputs": [
    {
     "name": "stdout",
     "output_type": "stream",
     "text": [
      "+-----+-----+\n",
      "|label|count|\n",
      "+-----+-----+\n",
      "|    0|  103|\n",
      "|    1|   36|\n",
      "+-----+-----+\n",
      "\n",
      "+-----+-----+\n",
      "|label|count|\n",
      "+-----+-----+\n",
      "|    0|   31|\n",
      "|    1|    6|\n",
      "+-----+-----+\n",
      "\n",
      "+-----+-----+\n",
      "|label|count|\n",
      "+-----+-----+\n",
      "|    0|   39|\n",
      "|    1|   10|\n",
      "+-----+-----+\n",
      "\n"
     ]
    }
   ],
   "source": [
    "assembler = VectorAssembler(inputCols = ['active_freq','About','Roll Advert'], outputCol = 'NumFeatures')\n",
    "df = assembler.transform(spark_df)\n",
    "# 归一化向量\n",
    "scaler = Normalizer(inputCol =  'NumFeatures', outputCol = 'features')\n",
    "df =  scaler.transform(df)\n",
    "\n",
    "# 划分train, test, validation 数据集\n",
    "train, test = df.select('features','label').randomSplit([0.75, 0.25], seed=42)\n",
    "train, validation = train.randomSplit([0.75, 0.25], seed=42)\n",
    "\n",
    "# 查看划分后的数据\n",
    "train.groupBy('label').count().show()\n",
    "validation.groupBy('label').count().show()\n",
    "test.groupBy('label').count().show()"
   ]
  },
  {
   "cell_type": "code",
   "execution_count": 53,
   "metadata": {},
   "outputs": [
    {
     "name": "stdout",
     "output_type": "stream",
     "text": [
      "训练集效果    precision  accuracy    recall   f1score\n",
      "0   0.833333  0.798561  0.277778  0.416667\n",
      "验证集效果    precision  accuracy    recall   f1score\n",
      "0   0.333333  0.810811  0.166667  0.222222\n"
     ]
    }
   ],
   "source": [
    "# ··········逻辑回归··········\n",
    "log_reg = LogisticRegression(labelCol = 'label').fit(train)\n",
    "\n",
    "### 在测试数据集中评估模型，返回对象为BinaryLogisticRegressionSummary- 给定模型的二元逻辑回归结果\n",
    "train_results = log_reg.evaluate(train).predictions\n",
    "val_results = log_reg.evaluate(validation).predictions\n",
    "\n",
    "print('训练集效果',f1score_model(train_results))\n",
    "print('验证集效果',f1score_model(val_results))"
   ]
  },
  {
   "cell_type": "code",
   "execution_count": 54,
   "metadata": {},
   "outputs": [
    {
     "name": "stdout",
     "output_type": "stream",
     "text": [
      "训练集效果    precision  accuracy    recall  f1score\n",
      "0   0.892857  0.899281  0.694444  0.78125\n",
      "验证集效果    precision  accuracy  recall  f1score\n",
      "0        1.0       1.0     1.0      1.0\n"
     ]
    }
   ],
   "source": [
    "# ··········决策树··············\n",
    "dt = DecisionTreeClassifier(labelCol=\"label\", featuresCol=\"features\", impurity=\"gini\", maxDepth=10, maxBins=14)\n",
    "temp_model = dt.fit(train)\n",
    "train_results = temp_model.transform(train)\n",
    "val_results = dt.fit(validation).transform(validation)\n",
    "print('训练集效果',f1score_model(train_results))\n",
    "print('验证集效果',f1score_model(val_results))"
   ]
  },
  {
   "cell_type": "code",
   "execution_count": 55,
   "metadata": {
    "scrolled": true
   },
   "outputs": [
    {
     "name": "stdout",
     "output_type": "stream",
     "text": [
      "训练集效果    precision  accuracy    recall  f1score\n",
      "0   0.892857  0.899281  0.694444  0.78125\n",
      "验证集效果    precision  accuracy  recall  f1score\n",
      "0        1.0       1.0     1.0      1.0\n"
     ]
    }
   ],
   "source": [
    "# ··········决策树··············\n",
    "dt = DecisionTreeClassifier(labelCol=\"label\", featuresCol=\"features\", impurity=\"gini\", maxDepth=20, maxBins=14)\n",
    "temp_model = dt.fit(train)\n",
    "train_results = temp_model.transform(train)\n",
    "val_results = dt.fit(validation).transform(validation)\n",
    "print('训练集效果',f1score_model(train_results))\n",
    "print('验证集效果',f1score_model(val_results))"
   ]
  },
  {
   "cell_type": "code",
   "execution_count": 56,
   "metadata": {},
   "outputs": [
    {
     "name": "stdout",
     "output_type": "stream",
     "text": [
      "测试集效果    precision  accuracy  recall   f1score\n",
      "0        1.0  0.979592     0.9  0.947368\n"
     ]
    }
   ],
   "source": [
    "test_results = dt.fit(test).transform(test)\n",
    "print('测试集效果',f1score_model(test_results))"
   ]
  }
 ],
 "metadata": {
  "kernelspec": {
   "display_name": "Python 3",
   "language": "python",
   "name": "python3"
  },
  "language_info": {
   "codemirror_mode": {
    "name": "ipython",
    "version": 3
   },
   "file_extension": ".py",
   "mimetype": "text/x-python",
   "name": "python",
   "nbconvert_exporter": "python",
   "pygments_lexer": "ipython3",
   "version": "3.7.4"
  }
 },
 "nbformat": 4,
 "nbformat_minor": 2
}
